{
 "cells": [
  {
   "cell_type": "markdown",
   "metadata": {},
   "source": [
    "First attempt at code. Started second cell because of this error."
   ]
  },
  {
   "cell_type": "code",
   "execution_count": 37,
   "metadata": {
    "collapsed": false,
    "scrolled": false
   },
   "outputs": [
    {
     "ename": "RuntimeError",
     "evalue": "A column was specified that does not exist.",
     "output_type": "error",
     "traceback": [
      "\u001b[1;31m---------------------------------------------------------------------------\u001b[0m",
      "\u001b[1;31mRuntimeError\u001b[0m                              Traceback (most recent call last)",
      "\u001b[1;32m<ipython-input-37-12fef57b076c>\u001b[0m in \u001b[0;36m<module>\u001b[1;34m()\u001b[0m\n\u001b[0;32m     51\u001b[0m \u001b[1;33m\u001b[0m\u001b[0m\n\u001b[0;32m     52\u001b[0m \u001b[1;33m\u001b[0m\u001b[0m\n\u001b[1;32m---> 53\u001b[1;33m \u001b[0mcounty_sep\u001b[0m\u001b[1;33m(\u001b[0m\u001b[0min_state\u001b[0m\u001b[1;33m,\u001b[0m \u001b[0min_table\u001b[0m\u001b[1;33m)\u001b[0m\u001b[1;33m\u001b[0m\u001b[0m\n\u001b[0m",
      "\u001b[1;32m<ipython-input-37-12fef57b076c>\u001b[0m in \u001b[0;36mcounty_sep\u001b[1;34m(state, table)\u001b[0m\n\u001b[0;32m     36\u001b[0m                 \u001b[0mupdate\u001b[0m \u001b[1;33m=\u001b[0m \u001b[0marcpy\u001b[0m\u001b[1;33m.\u001b[0m\u001b[0mda\u001b[0m\u001b[1;33m.\u001b[0m\u001b[0mUpdateCursor\u001b[0m\u001b[1;33m(\u001b[0m\u001b[0mcounty\u001b[0m\u001b[1;33m,\u001b[0m \u001b[1;33m[\u001b[0m\u001b[1;34m\"TOTALPOP\"\u001b[0m\u001b[1;33m]\u001b[0m\u001b[1;33m)\u001b[0m\u001b[1;33m\u001b[0m\u001b[0m\n\u001b[0;32m     37\u001b[0m \u001b[1;33m\u001b[0m\u001b[0m\n\u001b[1;32m---> 38\u001b[1;33m                 \u001b[1;32mfor\u001b[0m \u001b[0mdata\u001b[0m \u001b[1;32min\u001b[0m \u001b[0mcursor2\u001b[0m\u001b[1;33m:\u001b[0m\u001b[1;33m\u001b[0m\u001b[0m\n\u001b[0m\u001b[0;32m     39\u001b[0m                     \u001b[1;32mif\u001b[0m \u001b[0mrow\u001b[0m\u001b[1;33m[\u001b[0m\u001b[1;36m0\u001b[0m\u001b[1;33m]\u001b[0m \u001b[1;33m==\u001b[0m \u001b[0mdata\u001b[0m\u001b[1;33m[\u001b[0m\u001b[1;36m0\u001b[0m\u001b[1;33m]\u001b[0m\u001b[1;33m:\u001b[0m\u001b[1;33m\u001b[0m\u001b[0m\n\u001b[0;32m     40\u001b[0m                         \u001b[0mpopulation\u001b[0m \u001b[1;33m+=\u001b[0m \u001b[0mdata\u001b[0m\u001b[1;33m[\u001b[0m\u001b[1;36m1\u001b[0m\u001b[1;33m]\u001b[0m\u001b[1;33m\u001b[0m\u001b[0m\n",
      "\u001b[1;31mRuntimeError\u001b[0m: A column was specified that does not exist."
     ]
    }
   ],
   "source": [
    "import sys\n",
    "sys.path.append('C:\\\\Program Files (x86)\\\\ArcGIS\\\\Desktop10.3\\\\bin')\n",
    "sys.path.append('C:\\\\Program Files (x86)\\\\ArcGIS\\\\Desktop10.3\\\\arcpy')\n",
    "sys.path.append('C:\\\\Program Files (x86)\\\\ArcGIS\\\\Desktop10.3\\\\ArcToolbox\\\\Scripts')\n",
    "\n",
    "import arcpy\n",
    "\n",
    "arcpy.env.overwriteOutput = True\n",
    "arcpy.env.workspace = \"C:\\Users\\kylek_000\\Documents\\geog458 digital\\Lab data\"\n",
    "\n",
    "in_state = \"saep_bg10.shp\"                                                    #State input shapefile\n",
    "in_table = \"WashingtonFIPS.dbf\"                                               #State input table\n",
    "\n",
    "#list of counties, only top 10 populated to be printed counties[0:10] IF ordered by highest to lowest population\n",
    "counties = []\n",
    "\n",
    "def county_sep(state, table):\n",
    "    \n",
    "    #Adding Total_POP field in county table in order to print out the most populated counties later\n",
    "    arcpy.AddField_management(table, \"Total_POP\", \"FLOAT\")\n",
    "    \n",
    "    with arcpy.da.UpdateCursor(table, [\"FIPSCounty\"]) as cursor:                        #create cursor for county table\n",
    "        \n",
    "        \n",
    "        for row in cursor:                                                              #inside county table\n",
    "            population = 0.0                                                            #population count\n",
    "            with arcpy.da.UpdateCursor(state, [\"COUNTYPF10\", \"POP2013\"]) as cursor2:    #create cursor for block group table\n",
    "                \n",
    "                #creates the file for the county\n",
    "                county = arcpy.CreateFeatureclass_management(\"C:\\Users\\kylek_000\\Documents\\geog458 digital\\Lab data\", str(row[0]))\n",
    "                \n",
    "                #creating field in county shapefile for population\n",
    "                arcpy.AddField_management(county, \"TOTALPOP\")\n",
    "                \n",
    "                #create UPDATE cursor for file in order to add column and data\n",
    "                update = arcpy.da.UpdateCursor(county, [\"TOTALPOP\"]) \n",
    "                \n",
    "                for data in cursor2:                                                    #inside block group table\n",
    "                    if row[0] == data[0]:\n",
    "                        population += data[1]\n",
    "                        #ALSO NEED TO ADD SHAPES INTO THE COUNTIES IN THIS if statement\n",
    "                        \n",
    "                        update.updateRow(population)                    \n",
    "                        cursor.updateRow(population)\n",
    "                del update\n",
    "\n",
    "    \n",
    "    #function to sort the list by population\n",
    "    \n",
    "    #print counties[0:10]\n",
    "    \n",
    "\n",
    "county_sep(in_state, in_table)\n"
   ]
  },
  {
   "cell_type": "markdown",
   "metadata": {
    "collapsed": true
   },
   "source": [
    "Second attempt. I got the files made and made them into geojson files.\n",
    "I changed some incorrect indexes and added the spatial projections because the geojson files weren't visually showing up.\n",
    "Got this error again. I spent a good +10 hours of coding and trying to figure all this out. This error is killing me. \n",
    "My parameters seem to be fine, and I created made some checks along the way. Nobody could help. "
   ]
  },
  {
   "cell_type": "code",
   "execution_count": 155,
   "metadata": {
    "collapsed": true
   },
   "outputs": [],
   "source": [
    "import sys\n",
    "sys.path.append('C:\\\\Program Files (x86)\\\\ArcGIS\\\\Desktop10.3\\\\bin')\n",
    "sys.path.append('C:\\\\Program Files (x86)\\\\ArcGIS\\\\Desktop10.3\\\\arcpy')\n",
    "sys.path.append('C:\\\\Program Files (x86)\\\\ArcGIS\\\\Desktop10.3\\\\ArcToolbox\\\\Scripts')\n",
    "\n",
    "import arcpy\n",
    "\n",
    "from subprocess import call\n",
    "import os\n",
    "\n",
    "os.environ[\"GDAL_DATA\"] = \"C:\\\\OSGeo4W\\\\share\\\\gdal\"\n",
    "os.environ[\"GDAL_DRIVER_PATH\"] = \"C:\\\\OSGeo4W\\\\bin\\\\gdalplugins\"\n",
    "os.environ[\"PROJ_LIB\"] = \"C:\\\\OSGeo4W\\\\share\\\\proj\"\n",
    "os.environ[\"PATH\"] = \"C:\\\\OSGeo4W\\\\bin;\"+os.environ[\"PATH\"]+\";C:\\\\OSGeo4W\\\\apps\\\\msys\\\\bin;C:\\\\OSGeo4W\\\\apps\\\\Python27\\\\Scripts\"\n",
    "\n",
    "\n",
    "arcpy.env.overwriteOutput = True\n",
    "arcpy.env.workspace = \"C:\\Users\\kylek_000\\Documents\\geog458 digital\\Lab data\"\n",
    "\n",
    "in_state = \"saep_bg10.shp\"                                                     #State input shapefile\n",
    "in_counties = \"WashingtonFIPS.dbf\"                                             #Counties table\n",
    "\n",
    "def county_sep(state, table):\n",
    "    \n",
    "    arcpy.AddField_management(table, \"Total_POP\", \"FLOAT\")\n",
    "    projection = arcpy.Describe(state).spatialReference\n",
    "    \n",
    "    with arcpy.da.UpdateCursor(table, [\"FIPSCounty\", \"CountyName\"]) as cursor:                 #create cursor traversing county table \n",
    "        for row in cursor:                                                                     #traverse county table\n",
    "            \n",
    "            population = 0.0\n",
    "            \n",
    "            #create shapefile\n",
    "            county = arcpy.CreateFeatureclass_management (\"C:\\\\Users\\\\kylek_000\\\\Documents\\\\geog458 digital\\\\Lab data\\\\outputs\\\\\", str(row[1]))\n",
    "            #arcpy.AddField_management(county, \"FIPSCounty\", \"LONG\")\n",
    "            #arcpy.AddField_management(county, \"Total_Pop\", \"FLOAT\")\n",
    "            \n",
    "            with arcpy.da.SearchCursor(state, [\"COUNTYFP10\", \"Total_POP\"]) as cursor2:\n",
    "                \n",
    "                with arcpy.da.InsertCursor(county, [\"COUNTYFP10\", \"Total_POP\"]) as cursor3: \n",
    "                    for row2 in cursor2:\n",
    "                        \n",
    "                        #comparing FIPS codes \n",
    "                        if row[0] == row2[0]:\n",
    "                            #print str(row2[1])\n",
    "                            cursor3.insertRow(row2)\n",
    "                            population += row2[1]\n",
    "                            cursor.updateRow(population)\n",
    "                    \n",
    "            #adds projection to shapefiles\n",
    "            arcpy.management.DefineProjection(county, projection)\n",
    "            call(['C:\\\\OSGeo4W\\\\bin\\\\ogr2ogr','-f','GeoJSON', '-t_srs','WGS84', '-s_srs','EPSG:2927', 'C:\\\\Users\\\\kylek_000\\\\Documents\\\\geog458 digital\\\\Lab data\\\\outputs\\\\' + str(row[1]) + '.geojson', 'C:\\\\Users\\\\kylek_000\\\\Documents\\\\geog458 digital\\\\Lab data\\\\outputs\\\\' + str(row[1]) +'.shp'])\n",
    "    \n",
    "    #Table sorted by population \n",
    "    top10 = arcpy.Sort_management(table, \"C:\\\\Users\\\\kylek_000\\\\Documents\\\\geog458 digital\\\\Lab data\\\\outputs\\\\\", [[\"Total_POP\", \"DESCENDING\"]])\n",
    "    \n",
    "    #Printing the top 10 most populated counties.\n",
    "    with arcpy.da.SearchCursor(top10, [\"CountyName\", \"Total_POP\"]) as sCur:\n",
    "        i = 0\n",
    "        for rank in sCur:\n",
    "            if i < 10:\n",
    "                print str(rank[0]) + \" County has a population of \" + str(rank[1]) + \".\"\n",
    "                i += 1\n",
    "                "
   ]
  },
  {
   "cell_type": "markdown",
   "metadata": {},
   "source": [
    "Call to the method"
   ]
  },
  {
   "cell_type": "code",
   "execution_count": 156,
   "metadata": {
    "collapsed": false
   },
   "outputs": [
    {
     "ename": "RuntimeError",
     "evalue": "A column was specified that does not exist.",
     "output_type": "error",
     "traceback": [
      "\u001b[1;31m---------------------------------------------------------------------------\u001b[0m",
      "\u001b[1;31mRuntimeError\u001b[0m                              Traceback (most recent call last)",
      "\u001b[1;32m<ipython-input-156-154f17e3a4a9>\u001b[0m in \u001b[0;36m<module>\u001b[1;34m()\u001b[0m\n\u001b[1;32m----> 1\u001b[1;33m \u001b[0mcounty_sep\u001b[0m\u001b[1;33m(\u001b[0m\u001b[0min_state\u001b[0m\u001b[1;33m,\u001b[0m \u001b[0min_counties\u001b[0m\u001b[1;33m)\u001b[0m\u001b[1;33m\u001b[0m\u001b[0m\n\u001b[0m",
      "\u001b[1;32m<ipython-input-155-f9121e8c340c>\u001b[0m in \u001b[0;36mcounty_sep\u001b[1;34m(state, table)\u001b[0m\n\u001b[0;32m     39\u001b[0m \u001b[1;33m\u001b[0m\u001b[0m\n\u001b[0;32m     40\u001b[0m                 \u001b[1;32mwith\u001b[0m \u001b[0marcpy\u001b[0m\u001b[1;33m.\u001b[0m\u001b[0mda\u001b[0m\u001b[1;33m.\u001b[0m\u001b[0mInsertCursor\u001b[0m\u001b[1;33m(\u001b[0m\u001b[0mcounty\u001b[0m\u001b[1;33m,\u001b[0m \u001b[1;33m[\u001b[0m\u001b[1;34m\"COUNTYFP10\"\u001b[0m\u001b[1;33m,\u001b[0m \u001b[1;34m\"Total_POP\"\u001b[0m\u001b[1;33m]\u001b[0m\u001b[1;33m)\u001b[0m \u001b[1;32mas\u001b[0m \u001b[0mcursor3\u001b[0m\u001b[1;33m:\u001b[0m\u001b[1;33m\u001b[0m\u001b[0m\n\u001b[1;32m---> 41\u001b[1;33m                     \u001b[1;32mfor\u001b[0m \u001b[0mrow2\u001b[0m \u001b[1;32min\u001b[0m \u001b[0mcursor2\u001b[0m\u001b[1;33m:\u001b[0m\u001b[1;33m\u001b[0m\u001b[0m\n\u001b[0m\u001b[0;32m     42\u001b[0m                         \u001b[1;31m#comparing FIPS codes\u001b[0m\u001b[1;33m\u001b[0m\u001b[1;33m\u001b[0m\u001b[0m\n\u001b[0;32m     43\u001b[0m                         \u001b[1;32mif\u001b[0m \u001b[0mrow\u001b[0m\u001b[1;33m[\u001b[0m\u001b[1;36m0\u001b[0m\u001b[1;33m]\u001b[0m \u001b[1;33m==\u001b[0m \u001b[0mrow2\u001b[0m\u001b[1;33m[\u001b[0m\u001b[1;36m0\u001b[0m\u001b[1;33m]\u001b[0m\u001b[1;33m:\u001b[0m\u001b[1;33m\u001b[0m\u001b[0m\n",
      "\u001b[1;31mRuntimeError\u001b[0m: A column was specified that does not exist."
     ]
    }
   ],
   "source": [
    "county_sep(in_state, in_counties)"
   ]
  },
  {
   "cell_type": "code",
   "execution_count": null,
   "metadata": {
    "collapsed": true
   },
   "outputs": [],
   "source": []
  },
  {
   "cell_type": "code",
   "execution_count": null,
   "metadata": {
    "collapsed": true
   },
   "outputs": [],
   "source": []
  }
 ],
 "metadata": {
  "kernelspec": {
   "display_name": "Python 2",
   "language": "python",
   "name": "python2"
  },
  "language_info": {
   "codemirror_mode": {
    "name": "ipython",
    "version": 2
   },
   "file_extension": ".py",
   "mimetype": "text/x-python",
   "name": "python",
   "nbconvert_exporter": "python",
   "pygments_lexer": "ipython2",
   "version": "2.7.10"
  }
 },
 "nbformat": 4,
 "nbformat_minor": 0
}
